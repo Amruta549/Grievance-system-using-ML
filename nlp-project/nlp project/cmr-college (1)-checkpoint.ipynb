{
 "cells": [
  {
   "cell_type": "code",
   "execution_count": 1,
   "metadata": {
    "execution": {
     "iopub.execute_input": "2024-07-18T13:27:12.838644Z",
     "iopub.status.busy": "2024-07-18T13:27:12.838204Z",
     "iopub.status.idle": "2024-07-18T13:27:27.813095Z",
     "shell.execute_reply": "2024-07-18T13:27:27.811657Z",
     "shell.execute_reply.started": "2024-07-18T13:27:12.838611Z"
    }
   },
   "outputs": [],
   "source": [
    "!pip install rake-nltk"
   ]
  },
  {
   "cell_type": "code",
   "execution_count": 2,
   "metadata": {
    "execution": {
     "iopub.execute_input": "2024-07-18T13:27:27.817183Z",
     "iopub.status.busy": "2024-07-18T13:27:27.816633Z",
     "iopub.status.idle": "2024-07-18T13:27:27.824015Z",
     "shell.execute_reply": "2024-07-18T13:27:27.822777Z",
     "shell.execute_reply.started": "2024-07-18T13:27:27.817135Z"
    }
   },
   "outputs": [],
   "source": [
    "from rake_nltk import Rake\n",
    "import pandas as pd\n",
    "import numpy as np\n",
    "from sklearn.metrics.pairwise import cosine_similarity\n",
    "from sklearn.feature_extraction.text import CountVectorizer"
   ]
  },
  {
   "cell_type": "code",
   "execution_count": 3,
   "metadata": {
    "execution": {
     "iopub.execute_input": "2024-07-18T13:27:27.825778Z",
     "iopub.status.busy": "2024-07-18T13:27:27.825396Z",
     "iopub.status.idle": "2024-07-18T13:27:27.844430Z",
     "shell.execute_reply": "2024-07-18T13:27:27.842982Z",
     "shell.execute_reply.started": "2024-07-18T13:27:27.825737Z"
    }
   },
   "outputs": [],
   "source": [
    "data = pd.read_csv('dataset2.csv')"
   ]
  },
  {
   "cell_type": "code",
   "execution_count": 4,
   "metadata": {
    "execution": {
     "iopub.execute_input": "2024-07-18T13:27:27.846433Z",
     "iopub.status.busy": "2024-07-18T13:27:27.846058Z",
     "iopub.status.idle": "2024-07-18T13:27:27.861681Z",
     "shell.execute_reply": "2024-07-18T13:27:27.860445Z",
     "shell.execute_reply.started": "2024-07-18T13:27:27.846403Z"
    }
   },
   "outputs": [],
   "source": [
    "data"
   ]
  },
  {
   "cell_type": "markdown",
   "metadata": {},
   "source": [
    "# Columns"
   ]
  },
  {
   "cell_type": "code",
   "execution_count": 5,
   "metadata": {
    "execution": {
     "iopub.execute_input": "2024-07-18T13:27:27.865480Z",
     "iopub.status.busy": "2024-07-18T13:27:27.865050Z",
     "iopub.status.idle": "2024-07-18T13:27:27.873846Z",
     "shell.execute_reply": "2024-07-18T13:27:27.872616Z",
     "shell.execute_reply.started": "2024-07-18T13:27:27.865446Z"
    }
   },
   "outputs": [
    {
     "data": {
      "text/plain": [
       "Index(['The limited access to research databases and materials is causing a lot of frustration among students. We need better access to be able to succeed academically.', 'High'], dtype='object')"
      ]
     },
     "execution_count": 5,
     "metadata": {},
     "output_type": "execute_result"
    }
   ],
   "source": [
    "data.columns"
   ]
  },
  {
   "cell_type": "code",
   "execution_count": 6,
   "metadata": {
    "execution": {
     "iopub.execute_input": "2024-07-18T13:27:27.876156Z",
     "iopub.status.busy": "2024-07-18T13:27:27.875644Z",
     "iopub.status.idle": "2024-07-18T13:27:27.885446Z",
     "shell.execute_reply": "2024-07-18T13:27:27.884129Z",
     "shell.execute_reply.started": "2024-07-18T13:27:27.876113Z"
    }
   },
   "outputs": [],
   "source": [
    "data.columns=['complaint','priority']"
   ]
  },
  {
   "cell_type": "code",
   "execution_count": 7,
   "metadata": {
    "execution": {
     "iopub.execute_input": "2024-07-18T13:27:27.887621Z",
     "iopub.status.busy": "2024-07-18T13:27:27.887128Z",
     "iopub.status.idle": "2024-07-18T13:27:27.905116Z",
     "shell.execute_reply": "2024-07-18T13:27:27.903808Z",
     "shell.execute_reply.started": "2024-07-18T13:27:27.887586Z"
    }
   },
   "outputs": [
    {
     "data": {
      "text/html": [
       "<div>\n",
       "<style scoped>\n",
       "    .dataframe tbody tr th:only-of-type {\n",
       "        vertical-align: middle;\n",
       "    }\n",
       "\n",
       "    .dataframe tbody tr th {\n",
       "        vertical-align: top;\n",
       "    }\n",
       "\n",
       "    .dataframe thead th {\n",
       "        text-align: right;\n",
       "    }\n",
       "</style>\n",
       "<table border=\"1\" class=\"dataframe\">\n",
       "  <thead>\n",
       "    <tr style=\"text-align: right;\">\n",
       "      <th></th>\n",
       "      <th>complaint</th>\n",
       "      <th>priority</th>\n",
       "    </tr>\n",
       "  </thead>\n",
       "  <tbody>\n",
       "    <tr>\n",
       "      <th>0</th>\n",
       "      <td>I'm having trouble finding the course material...</td>\n",
       "      <td>High</td>\n",
       "    </tr>\n",
       "    <tr>\n",
       "      <th>1</th>\n",
       "      <td>It's frustrating to have limited access to res...</td>\n",
       "      <td>High</td>\n",
       "    </tr>\n",
       "    <tr>\n",
       "      <th>2</th>\n",
       "      <td>I'm really struggling in one of my classes but...</td>\n",
       "      <td>High</td>\n",
       "    </tr>\n",
       "    <tr>\n",
       "      <th>3</th>\n",
       "      <td>I am really struggling with understanding the...</td>\n",
       "      <td>High</td>\n",
       "    </tr>\n",
       "    <tr>\n",
       "      <th>4</th>\n",
       "      <td>The grading system in this course is unfair a...</td>\n",
       "      <td>High</td>\n",
       "    </tr>\n",
       "    <tr>\n",
       "      <th>...</th>\n",
       "      <td>...</td>\n",
       "      <td>...</td>\n",
       "    </tr>\n",
       "    <tr>\n",
       "      <th>397</th>\n",
       "      <td>The transportation system in my city is not re...</td>\n",
       "      <td>Low</td>\n",
       "    </tr>\n",
       "    <tr>\n",
       "      <th>398</th>\n",
       "      <td>I've had to switch apartments multiple times b...</td>\n",
       "      <td>Low</td>\n",
       "    </tr>\n",
       "    <tr>\n",
       "      <th>399</th>\n",
       "      <td>The public transportation in my city is so cro...</td>\n",
       "      <td>Low</td>\n",
       "    </tr>\n",
       "    <tr>\n",
       "      <th>400</th>\n",
       "      <td>I've had to drop out of a few classes because ...</td>\n",
       "      <td>Low</td>\n",
       "    </tr>\n",
       "    <tr>\n",
       "      <th>401</th>\n",
       "      <td>Finding a parking spot near the university is ...</td>\n",
       "      <td>Low</td>\n",
       "    </tr>\n",
       "  </tbody>\n",
       "</table>\n",
       "<p>402 rows × 2 columns</p>\n",
       "</div>"
      ],
      "text/plain": [
       "                                             complaint priority\n",
       "0    I'm having trouble finding the course material...     High\n",
       "1    It's frustrating to have limited access to res...     High\n",
       "2    I'm really struggling in one of my classes but...     High\n",
       "3     I am really struggling with understanding the...     High\n",
       "4     The grading system in this course is unfair a...     High\n",
       "..                                                 ...      ...\n",
       "397  The transportation system in my city is not re...      Low\n",
       "398  I've had to switch apartments multiple times b...      Low\n",
       "399  The public transportation in my city is so cro...      Low\n",
       "400  I've had to drop out of a few classes because ...      Low\n",
       "401  Finding a parking spot near the university is ...      Low\n",
       "\n",
       "[402 rows x 2 columns]"
      ]
     },
     "execution_count": 7,
     "metadata": {},
     "output_type": "execute_result"
    }
   ],
   "source": [
    "data"
   ]
  },
  {
   "cell_type": "code",
   "execution_count": 8,
   "metadata": {
    "execution": {
     "iopub.execute_input": "2024-07-18T13:27:27.907771Z",
     "iopub.status.busy": "2024-07-18T13:27:27.907222Z",
     "iopub.status.idle": "2024-07-18T13:27:27.919513Z",
     "shell.execute_reply": "2024-07-18T13:27:27.918135Z",
     "shell.execute_reply.started": "2024-07-18T13:27:27.907689Z"
    }
   },
   "outputs": [
    {
     "data": {
      "text/plain": [
       "array(['High', 'Low'], dtype=object)"
      ]
     },
     "execution_count": 8,
     "metadata": {},
     "output_type": "execute_result"
    }
   ],
   "source": [
    "data['priority'].unique()"
   ]
  },
  {
   "cell_type": "code",
   "execution_count": 9,
   "metadata": {
    "execution": {
     "iopub.execute_input": "2024-07-18T13:27:27.921958Z",
     "iopub.status.busy": "2024-07-18T13:27:27.921485Z",
     "iopub.status.idle": "2024-07-18T13:27:27.932967Z",
     "shell.execute_reply": "2024-07-18T13:27:27.931757Z",
     "shell.execute_reply.started": "2024-07-18T13:27:27.921918Z"
    }
   },
   "outputs": [
    {
     "data": {
      "text/plain": [
       "High    237\n",
       "Low     165\n",
       "Name: priority, dtype: int64"
      ]
     },
     "execution_count": 9,
     "metadata": {},
     "output_type": "execute_result"
    }
   ],
   "source": [
    "data['priority'].value_counts()"
   ]
  },
  {
   "cell_type": "code",
   "execution_count": 10,
   "metadata": {
    "execution": {
     "iopub.execute_input": "2024-07-18T13:27:27.934683Z",
     "iopub.status.busy": "2024-07-18T13:27:27.934364Z",
     "iopub.status.idle": "2024-07-18T13:27:27.946996Z",
     "shell.execute_reply": "2024-07-18T13:27:27.945417Z",
     "shell.execute_reply.started": "2024-07-18T13:27:27.934657Z"
    }
   },
   "outputs": [
    {
     "data": {
      "text/plain": [
       "complaint     The grading system in this course is unfair a...\n",
       "priority                                                  High\n",
       "Name: 4, dtype: object"
      ]
     },
     "execution_count": 10,
     "metadata": {},
     "output_type": "execute_result"
    }
   ],
   "source": [
    "data.iloc[4]"
   ]
  },
  {
   "cell_type": "code",
   "execution_count": 11,
   "metadata": {
    "execution": {
     "iopub.execute_input": "2024-07-18T13:27:27.948951Z",
     "iopub.status.busy": "2024-07-18T13:27:27.948526Z",
     "iopub.status.idle": "2024-07-18T13:27:27.959370Z",
     "shell.execute_reply": "2024-07-18T13:27:27.958156Z",
     "shell.execute_reply.started": "2024-07-18T13:27:27.948919Z"
    }
   },
   "outputs": [
    {
     "data": {
      "text/plain": [
       "' The grading system in this course is unfair and inconsistent. It seems like the professor is picking favorites and not giving everyone a fair shot.'"
      ]
     },
     "execution_count": 11,
     "metadata": {},
     "output_type": "execute_result"
    }
   ],
   "source": [
    "data.iloc[4,0]"
   ]
  },
  {
   "cell_type": "code",
   "execution_count": 12,
   "metadata": {
    "execution": {
     "iopub.execute_input": "2024-07-18T13:27:27.961683Z",
     "iopub.status.busy": "2024-07-18T13:27:27.961072Z",
     "iopub.status.idle": "2024-07-18T13:27:28.368265Z",
     "shell.execute_reply": "2024-07-18T13:27:28.367006Z",
     "shell.execute_reply.started": "2024-07-18T13:27:27.961639Z"
    }
   },
   "outputs": [
    {
     "data": {
      "text/plain": [
       "<AxesSubplot:>"
      ]
     },
     "execution_count": 12,
     "metadata": {},
     "output_type": "execute_result"
    },
    {
     "data": {
      "image/png": "[encoded data removed]",
      "text/plain": [
       "<Figure size 576x360 with 1 Axes>"
      ]
     },
     "metadata": {
      "needs_background": "light"
     },
     "output_type": "display_data"
    }
   ],
   "source": [
    "data['priority'].value_counts().plot(kind='bar', figsize=[8,5], fontsize=15, color='navy')"
   ]
  },
  {
   "cell_type": "code",
   "execution_count": 13,
   "metadata": {
    "execution": {
     "iopub.execute_input": "2024-07-18T13:27:28.370477Z",
     "iopub.status.busy": "2024-07-18T13:27:28.370006Z",
     "iopub.status.idle": "2024-07-18T13:27:28.577830Z",
     "shell.execute_reply": "2024-07-18T13:27:28.576428Z",
     "shell.execute_reply.started": "2024-07-18T13:27:28.370431Z"
    }
   },
   "outputs": [
    {
     "data": {
      "image/png": "[encoded data removed]",
      "text/plain": [
       "<Figure size 432x288 with 1 Axes>"
      ]
     },
     "metadata": {
      "needs_background": "light"
     },
     "output_type": "display_data"
    }
   ],
   "source": [
    "import seaborn as sns\n",
    "import matplotlib.pyplot as plt\n",
    "\n",
    "sns.countplot(data=data, y='priority', order=data['priority'].value_counts().head(10).index)\n",
    "#plt.xticks(rotation=90)  # Rotate x-axis labels for better readability if needed\n",
    "plt.show()"
   ]
  },
  {
   "cell_type": "code",
   "execution_count": 14,
   "metadata": {
    "execution": {
     "iopub.execute_input": "2024-07-18T13:27:28.583977Z",
     "iopub.status.busy": "2024-07-18T13:27:28.583528Z",
     "iopub.status.idle": "2024-07-18T13:27:28.589799Z",
     "shell.execute_reply": "2024-07-18T13:27:28.588494Z",
     "shell.execute_reply.started": "2024-07-18T13:27:28.583941Z"
    }
   },
   "outputs": [],
   "source": [
    "import warnings\n",
    "warnings.filterwarnings('ignore')"
   ]
  },
  {
   "cell_type": "code",
   "execution_count": 15,
   "metadata": {
    "execution": {
     "iopub.execute_input": "2024-07-18T13:27:28.591655Z",
     "iopub.status.busy": "2024-07-18T13:27:28.591270Z",
     "iopub.status.idle": "2024-07-18T13:27:28.717470Z",
     "shell.execute_reply": "2024-07-18T13:27:28.716509Z",
     "shell.execute_reply.started": "2024-07-18T13:27:28.591619Z"
    }
   },
   "outputs": [],
   "source": [
    "data['Key_words'] = ''\n",
    "r = Rake()\n",
    "for index, row in data.iterrows():\n",
    "    r.extract_keywords_from_text(row['complaint'])\n",
    "    key_words_dict_scores = r.get_word_degrees()\n",
    "    key_words = list(key_words_dict_scores.keys())\n",
    "    data.at[index, 'Key_words'] = key_words"
   ]
  },
  {
   "cell_type": "code",
   "execution_count": 16,
   "metadata": {
    "execution": {
     "iopub.execute_input": "2024-07-18T13:27:28.719391Z",
     "iopub.status.busy": "2024-07-18T13:27:28.718944Z",
     "iopub.status.idle": "2024-07-18T13:27:28.738651Z",
     "shell.execute_reply": "2024-07-18T13:27:28.737382Z",
     "shell.execute_reply.started": "2024-07-18T13:27:28.719353Z"
    }
   },
   "outputs": [
    {
     "data": {
      "text/html": [
       "<div>\n",
       "<style scoped>\n",
       "    .dataframe tbody tr th:only-of-type {\n",
       "        vertical-align: middle;\n",
       "    }\n",
       "\n",
       "    .dataframe tbody tr th {\n",
       "        vertical-align: top;\n",
       "    }\n",
       "\n",
       "    .dataframe thead th {\n",
       "        text-align: right;\n",
       "    }\n",
       "</style>\n",
       "<table border=\"1\" class=\"dataframe\">\n",
       "  <thead>\n",
       "    <tr style=\"text-align: right;\">\n",
       "      <th></th>\n",
       "      <th>complaint</th>\n",
       "      <th>priority</th>\n",
       "      <th>Key_words</th>\n",
       "    </tr>\n",
       "  </thead>\n",
       "  <tbody>\n",
       "    <tr>\n",
       "      <th>0</th>\n",
       "      <td>I'm having trouble finding the course material...</td>\n",
       "      <td>High</td>\n",
       "      <td>[trouble, finding, course, materials, need, cl...</td>\n",
       "    </tr>\n",
       "    <tr>\n",
       "      <th>1</th>\n",
       "      <td>It's frustrating to have limited access to res...</td>\n",
       "      <td>High</td>\n",
       "      <td>[frustrating, limited, access, research, datab...</td>\n",
       "    </tr>\n",
       "    <tr>\n",
       "      <th>2</th>\n",
       "      <td>I'm really struggling in one of my classes but...</td>\n",
       "      <td>High</td>\n",
       "      <td>[really, struggling, one, classes, get, appoin...</td>\n",
       "    </tr>\n",
       "    <tr>\n",
       "      <th>3</th>\n",
       "      <td>I am really struggling with understanding the...</td>\n",
       "      <td>High</td>\n",
       "      <td>[really, struggling, understanding, instructio...</td>\n",
       "    </tr>\n",
       "    <tr>\n",
       "      <th>4</th>\n",
       "      <td>The grading system in this course is unfair a...</td>\n",
       "      <td>High</td>\n",
       "      <td>[grading, system, course, unfair, inconsistent...</td>\n",
       "    </tr>\n",
       "    <tr>\n",
       "      <th>...</th>\n",
       "      <td>...</td>\n",
       "      <td>...</td>\n",
       "      <td>...</td>\n",
       "    </tr>\n",
       "    <tr>\n",
       "      <th>397</th>\n",
       "      <td>The transportation system in my city is not re...</td>\n",
       "      <td>Low</td>\n",
       "      <td>[transportation, system, city, reliable, miss,...</td>\n",
       "    </tr>\n",
       "    <tr>\n",
       "      <th>398</th>\n",
       "      <td>I've had to switch apartments multiple times b...</td>\n",
       "      <td>Low</td>\n",
       "      <td>[switch, apartments, multiple, times, landlord...</td>\n",
       "    </tr>\n",
       "    <tr>\n",
       "      <th>399</th>\n",
       "      <td>The public transportation in my city is so cro...</td>\n",
       "      <td>Low</td>\n",
       "      <td>[public, transportation, city, crowded, peak, ...</td>\n",
       "    </tr>\n",
       "    <tr>\n",
       "      <th>400</th>\n",
       "      <td>I've had to drop out of a few classes because ...</td>\n",
       "      <td>Low</td>\n",
       "      <td>[drop, classes, bus, schedule, line, class]</td>\n",
       "    </tr>\n",
       "    <tr>\n",
       "      <th>401</th>\n",
       "      <td>Finding a parking spot near the university is ...</td>\n",
       "      <td>Low</td>\n",
       "      <td>[finding, parking, spot, near, university, nig...</td>\n",
       "    </tr>\n",
       "  </tbody>\n",
       "</table>\n",
       "<p>402 rows × 3 columns</p>\n",
       "</div>"
      ],
      "text/plain": [
       "                                             complaint priority  \\\n",
       "0    I'm having trouble finding the course material...     High   \n",
       "1    It's frustrating to have limited access to res...     High   \n",
       "2    I'm really struggling in one of my classes but...     High   \n",
       "3     I am really struggling with understanding the...     High   \n",
       "4     The grading system in this course is unfair a...     High   \n",
       "..                                                 ...      ...   \n",
       "397  The transportation system in my city is not re...      Low   \n",
       "398  I've had to switch apartments multiple times b...      Low   \n",
       "399  The public transportation in my city is so cro...      Low   \n",
       "400  I've had to drop out of a few classes because ...      Low   \n",
       "401  Finding a parking spot near the university is ...      Low   \n",
       "\n",
       "                                             Key_words  \n",
       "0    [trouble, finding, course, materials, need, cl...  \n",
       "1    [frustrating, limited, access, research, datab...  \n",
       "2    [really, struggling, one, classes, get, appoin...  \n",
       "3    [really, struggling, understanding, instructio...  \n",
       "4    [grading, system, course, unfair, inconsistent...  \n",
       "..                                                 ...  \n",
       "397  [transportation, system, city, reliable, miss,...  \n",
       "398  [switch, apartments, multiple, times, landlord...  \n",
       "399  [public, transportation, city, crowded, peak, ...  \n",
       "400        [drop, classes, bus, schedule, line, class]  \n",
       "401  [finding, parking, spot, near, university, nig...  \n",
       "\n",
       "[402 rows x 3 columns]"
      ]
     },
     "execution_count": 16,
     "metadata": {},
     "output_type": "execute_result"
    }
   ],
   "source": [
    "data"
   ]
  },
  {
   "cell_type": "code",
   "execution_count": 17,
   "metadata": {
    "execution": {
     "iopub.execute_input": "2024-07-18T13:27:28.740974Z",
     "iopub.status.busy": "2024-07-18T13:27:28.740480Z",
     "iopub.status.idle": "2024-07-18T13:27:28.933751Z",
     "shell.execute_reply": "2024-07-18T13:27:28.932467Z",
     "shell.execute_reply.started": "2024-07-18T13:27:28.740928Z"
    }
   },
   "outputs": [],
   "source": [
    "data['Bag_of_words'] = ''\n",
    "columns=['Key_words']\n",
    "for index, row in data.iterrows():\n",
    "    words = ''\n",
    "    for col in columns:\n",
    "        words += ' '.join(row[col]) + ' '\n",
    "    data['Bag_of_words'].iloc[index] = words"
   ]
  },
  {
   "cell_type": "code",
   "execution_count": 18,
   "metadata": {
    "execution": {
     "iopub.execute_input": "2024-07-18T13:27:28.936085Z",
     "iopub.status.busy": "2024-07-18T13:27:28.935061Z",
     "iopub.status.idle": "2024-07-18T13:27:28.959324Z",
     "shell.execute_reply": "2024-07-18T13:27:28.958072Z",
     "shell.execute_reply.started": "2024-07-18T13:27:28.936042Z"
    }
   },
   "outputs": [
    {
     "data": {
      "text/html": [
       "<div>\n",
       "<style scoped>\n",
       "    .dataframe tbody tr th:only-of-type {\n",
       "        vertical-align: middle;\n",
       "    }\n",
       "\n",
       "    .dataframe tbody tr th {\n",
       "        vertical-align: top;\n",
       "    }\n",
       "\n",
       "    .dataframe thead th {\n",
       "        text-align: right;\n",
       "    }\n",
       "</style>\n",
       "<table border=\"1\" class=\"dataframe\">\n",
       "  <thead>\n",
       "    <tr style=\"text-align: right;\">\n",
       "      <th></th>\n",
       "      <th>complaint</th>\n",
       "      <th>priority</th>\n",
       "      <th>Key_words</th>\n",
       "      <th>Bag_of_words</th>\n",
       "    </tr>\n",
       "  </thead>\n",
       "  <tbody>\n",
       "    <tr>\n",
       "      <th>0</th>\n",
       "      <td>I'm having trouble finding the course material...</td>\n",
       "      <td>High</td>\n",
       "      <td>[trouble, finding, course, materials, need, cl...</td>\n",
       "      <td>trouble finding course materials need classes ...</td>\n",
       "    </tr>\n",
       "    <tr>\n",
       "      <th>1</th>\n",
       "      <td>It's frustrating to have limited access to res...</td>\n",
       "      <td>High</td>\n",
       "      <td>[frustrating, limited, access, research, datab...</td>\n",
       "      <td>frustrating limited access research databases ...</td>\n",
       "    </tr>\n",
       "    <tr>\n",
       "      <th>2</th>\n",
       "      <td>I'm really struggling in one of my classes but...</td>\n",
       "      <td>High</td>\n",
       "      <td>[really, struggling, one, classes, get, appoin...</td>\n",
       "      <td>really struggling one classes get appointment ...</td>\n",
       "    </tr>\n",
       "    <tr>\n",
       "      <th>3</th>\n",
       "      <td>I am really struggling with understanding the...</td>\n",
       "      <td>High</td>\n",
       "      <td>[really, struggling, understanding, instructio...</td>\n",
       "      <td>really struggling understanding instructions a...</td>\n",
       "    </tr>\n",
       "    <tr>\n",
       "      <th>4</th>\n",
       "      <td>The grading system in this course is unfair a...</td>\n",
       "      <td>High</td>\n",
       "      <td>[grading, system, course, unfair, inconsistent...</td>\n",
       "      <td>grading system course unfair inconsistent seem...</td>\n",
       "    </tr>\n",
       "    <tr>\n",
       "      <th>...</th>\n",
       "      <td>...</td>\n",
       "      <td>...</td>\n",
       "      <td>...</td>\n",
       "      <td>...</td>\n",
       "    </tr>\n",
       "    <tr>\n",
       "      <th>397</th>\n",
       "      <td>The transportation system in my city is not re...</td>\n",
       "      <td>Low</td>\n",
       "      <td>[transportation, system, city, reliable, miss,...</td>\n",
       "      <td>transportation system city reliable miss multi...</td>\n",
       "    </tr>\n",
       "    <tr>\n",
       "      <th>398</th>\n",
       "      <td>I've had to switch apartments multiple times b...</td>\n",
       "      <td>Low</td>\n",
       "      <td>[switch, apartments, multiple, times, landlord...</td>\n",
       "      <td>switch apartments multiple times landlord kept...</td>\n",
       "    </tr>\n",
       "    <tr>\n",
       "      <th>399</th>\n",
       "      <td>The public transportation in my city is so cro...</td>\n",
       "      <td>Low</td>\n",
       "      <td>[public, transportation, city, crowded, peak, ...</td>\n",
       "      <td>public transportation city crowded peak hours ...</td>\n",
       "    </tr>\n",
       "    <tr>\n",
       "      <th>400</th>\n",
       "      <td>I've had to drop out of a few classes because ...</td>\n",
       "      <td>Low</td>\n",
       "      <td>[drop, classes, bus, schedule, line, class]</td>\n",
       "      <td>drop classes bus schedule line class</td>\n",
       "    </tr>\n",
       "    <tr>\n",
       "      <th>401</th>\n",
       "      <td>Finding a parking spot near the university is ...</td>\n",
       "      <td>Low</td>\n",
       "      <td>[finding, parking, spot, near, university, nig...</td>\n",
       "      <td>finding parking spot near university nightmare...</td>\n",
       "    </tr>\n",
       "  </tbody>\n",
       "</table>\n",
       "<p>402 rows × 4 columns</p>\n",
       "</div>"
      ],
      "text/plain": [
       "                                             complaint priority  \\\n",
       "0    I'm having trouble finding the course material...     High   \n",
       "1    It's frustrating to have limited access to res...     High   \n",
       "2    I'm really struggling in one of my classes but...     High   \n",
       "3     I am really struggling with understanding the...     High   \n",
       "4     The grading system in this course is unfair a...     High   \n",
       "..                                                 ...      ...   \n",
       "397  The transportation system in my city is not re...      Low   \n",
       "398  I've had to switch apartments multiple times b...      Low   \n",
       "399  The public transportation in my city is so cro...      Low   \n",
       "400  I've had to drop out of a few classes because ...      Low   \n",
       "401  Finding a parking spot near the university is ...      Low   \n",
       "\n",
       "                                             Key_words  \\\n",
       "0    [trouble, finding, course, materials, need, cl...   \n",
       "1    [frustrating, limited, access, research, datab...   \n",
       "2    [really, struggling, one, classes, get, appoin...   \n",
       "3    [really, struggling, understanding, instructio...   \n",
       "4    [grading, system, course, unfair, inconsistent...   \n",
       "..                                                 ...   \n",
       "397  [transportation, system, city, reliable, miss,...   \n",
       "398  [switch, apartments, multiple, times, landlord...   \n",
       "399  [public, transportation, city, crowded, peak, ...   \n",
       "400        [drop, classes, bus, schedule, line, class]   \n",
       "401  [finding, parking, spot, near, university, nig...   \n",
       "\n",
       "                                          Bag_of_words  \n",
       "0    trouble finding course materials need classes ...  \n",
       "1    frustrating limited access research databases ...  \n",
       "2    really struggling one classes get appointment ...  \n",
       "3    really struggling understanding instructions a...  \n",
       "4    grading system course unfair inconsistent seem...  \n",
       "..                                                 ...  \n",
       "397  transportation system city reliable miss multi...  \n",
       "398  switch apartments multiple times landlord kept...  \n",
       "399  public transportation city crowded peak hours ...  \n",
       "400              drop classes bus schedule line class   \n",
       "401  finding parking spot near university nightmare...  \n",
       "\n",
       "[402 rows x 4 columns]"
      ]
     },
     "execution_count": 18,
     "metadata": {},
     "output_type": "execute_result"
    }
   ],
   "source": [
    "data"
   ]
  },
  {
   "cell_type": "code",
   "execution_count": 19,
   "metadata": {
    "execution": {
     "iopub.execute_input": "2024-07-18T13:27:28.962257Z",
     "iopub.status.busy": "2024-07-18T13:27:28.961320Z",
     "iopub.status.idle": "2024-07-18T13:27:28.970541Z",
     "shell.execute_reply": "2024-07-18T13:27:28.969159Z",
     "shell.execute_reply.started": "2024-07-18T13:27:28.962220Z"
    }
   },
   "outputs": [],
   "source": [
    "df = data[['priority','Bag_of_words']]"
   ]
  },
  {
   "cell_type": "code",
   "execution_count": 20,
   "metadata": {
    "execution": {
     "iopub.execute_input": "2024-07-18T13:27:28.972646Z",
     "iopub.status.busy": "2024-07-18T13:27:28.972159Z",
     "iopub.status.idle": "2024-07-18T13:27:28.981759Z",
     "shell.execute_reply": "2024-07-18T13:27:28.980585Z",
     "shell.execute_reply.started": "2024-07-18T13:27:28.972585Z"
    }
   },
   "outputs": [],
   "source": [
    "def process_text(text):\n",
    "    import re\n",
    "    text = re.sub(r'[^\\w\\s]', '', text)  # remove punctuation\n",
    "    return re.sub(r'\\d',\"\",text)"
   ]
  },
  {
   "cell_type": "code",
   "execution_count": 21,
   "metadata": {
    "execution": {
     "iopub.execute_input": "2024-07-18T13:27:28.983780Z",
     "iopub.status.busy": "2024-07-18T13:27:28.983355Z",
     "iopub.status.idle": "2024-07-18T13:27:28.997912Z",
     "shell.execute_reply": "2024-07-18T13:27:28.996649Z",
     "shell.execute_reply.started": "2024-07-18T13:27:28.983736Z"
    }
   },
   "outputs": [],
   "source": [
    "df['Bag_of_words']=df['Bag_of_words'].apply(lambda x : process_text(x))"
   ]
  },
  {
   "cell_type": "code",
   "execution_count": 22,
   "metadata": {
    "execution": {
     "iopub.execute_input": "2024-07-18T13:27:28.999845Z",
     "iopub.status.busy": "2024-07-18T13:27:28.999409Z",
     "iopub.status.idle": "2024-07-18T13:27:29.017674Z",
     "shell.execute_reply": "2024-07-18T13:27:29.016324Z",
     "shell.execute_reply.started": "2024-07-18T13:27:28.999807Z"
    }
   },
   "outputs": [
    {
     "data": {
      "text/html": [
       "<div>\n",
       "<style scoped>\n",
       "    .dataframe tbody tr th:only-of-type {\n",
       "        vertical-align: middle;\n",
       "    }\n",
       "\n",
       "    .dataframe tbody tr th {\n",
       "        vertical-align: top;\n",
       "    }\n",
       "\n",
       "    .dataframe thead th {\n",
       "        text-align: right;\n",
       "    }\n",
       "</style>\n",
       "<table border=\"1\" class=\"dataframe\">\n",
       "  <thead>\n",
       "    <tr style=\"text-align: right;\">\n",
       "      <th></th>\n",
       "      <th>priority</th>\n",
       "      <th>Bag_of_words</th>\n",
       "    </tr>\n",
       "  </thead>\n",
       "  <tbody>\n",
       "    <tr>\n",
       "      <th>0</th>\n",
       "      <td>High</td>\n",
       "      <td>trouble finding course materials need classes ...</td>\n",
       "    </tr>\n",
       "    <tr>\n",
       "      <th>1</th>\n",
       "      <td>High</td>\n",
       "      <td>frustrating limited access research databases ...</td>\n",
       "    </tr>\n",
       "    <tr>\n",
       "      <th>2</th>\n",
       "      <td>High</td>\n",
       "      <td>really struggling one classes get appointment ...</td>\n",
       "    </tr>\n",
       "    <tr>\n",
       "      <th>3</th>\n",
       "      <td>High</td>\n",
       "      <td>really struggling understanding instructions a...</td>\n",
       "    </tr>\n",
       "    <tr>\n",
       "      <th>4</th>\n",
       "      <td>High</td>\n",
       "      <td>grading system course unfair inconsistent seem...</td>\n",
       "    </tr>\n",
       "    <tr>\n",
       "      <th>...</th>\n",
       "      <td>...</td>\n",
       "      <td>...</td>\n",
       "    </tr>\n",
       "    <tr>\n",
       "      <th>397</th>\n",
       "      <td>Low</td>\n",
       "      <td>transportation system city reliable miss multi...</td>\n",
       "    </tr>\n",
       "    <tr>\n",
       "      <th>398</th>\n",
       "      <td>Low</td>\n",
       "      <td>switch apartments multiple times landlord kept...</td>\n",
       "    </tr>\n",
       "    <tr>\n",
       "      <th>399</th>\n",
       "      <td>Low</td>\n",
       "      <td>public transportation city crowded peak hours ...</td>\n",
       "    </tr>\n",
       "    <tr>\n",
       "      <th>400</th>\n",
       "      <td>Low</td>\n",
       "      <td>drop classes bus schedule line class</td>\n",
       "    </tr>\n",
       "    <tr>\n",
       "      <th>401</th>\n",
       "      <td>Low</td>\n",
       "      <td>finding parking spot near university nightmare...</td>\n",
       "    </tr>\n",
       "  </tbody>\n",
       "</table>\n",
       "<p>402 rows × 2 columns</p>\n",
       "</div>"
      ],
      "text/plain": [
       "    priority                                       Bag_of_words\n",
       "0       High  trouble finding course materials need classes ...\n",
       "1       High  frustrating limited access research databases ...\n",
       "2       High  really struggling one classes get appointment ...\n",
       "3       High  really struggling understanding instructions a...\n",
       "4       High  grading system course unfair inconsistent seem...\n",
       "..       ...                                                ...\n",
       "397      Low  transportation system city reliable miss multi...\n",
       "398      Low  switch apartments multiple times landlord kept...\n",
       "399      Low  public transportation city crowded peak hours ...\n",
       "400      Low              drop classes bus schedule line class \n",
       "401      Low  finding parking spot near university nightmare...\n",
       "\n",
       "[402 rows x 2 columns]"
      ]
     },
     "execution_count": 22,
     "metadata": {},
     "output_type": "execute_result"
    }
   ],
   "source": [
    "df"
   ]
  },
  {
   "cell_type": "code",
   "execution_count": 23,
   "metadata": {
    "execution": {
     "iopub.execute_input": "2024-07-18T13:27:29.019717Z",
     "iopub.status.busy": "2024-07-18T13:27:29.019311Z",
     "iopub.status.idle": "2024-07-18T13:27:29.048957Z",
     "shell.execute_reply": "2024-07-18T13:27:29.047650Z",
     "shell.execute_reply.started": "2024-07-18T13:27:29.019664Z"
    }
   },
   "outputs": [],
   "source": [
    "from sklearn.feature_extraction.text import CountVectorizer,TfidfTransformer\n",
    "from sklearn.naive_bayes import MultinomialNB\n",
    "count_vect=CountVectorizer(lowercase=True,\n",
    "                      stop_words='english'\n",
    "                     # ,min_df=0.2,\n",
    "                      #max_df=0.95\n",
    "                          )\n",
    "count_vect.fit(df['Bag_of_words'])\n",
    "count_vect_transform=count_vect.transform(df['Bag_of_words'])"
   ]
  },
  {
   "cell_type": "code",
   "execution_count": 24,
   "metadata": {
    "execution": {
     "iopub.execute_input": "2024-07-18T13:27:29.051166Z",
     "iopub.status.busy": "2024-07-18T13:27:29.050801Z",
     "iopub.status.idle": "2024-07-18T13:27:29.058887Z",
     "shell.execute_reply": "2024-07-18T13:27:29.057524Z",
     "shell.execute_reply.started": "2024-07-18T13:27:29.051136Z"
    }
   },
   "outputs": [
    {
     "data": {
      "text/plain": [
       "<402x890 sparse matrix of type '<class 'numpy.int64'>'\n",
       "\twith 3166 stored elements in Compressed Sparse Row format>"
      ]
     },
     "execution_count": 24,
     "metadata": {},
     "output_type": "execute_result"
    }
   ],
   "source": [
    "count_vect_transform"
   ]
  },
  {
   "cell_type": "code",
   "execution_count": 25,
   "metadata": {
    "execution": {
     "iopub.execute_input": "2024-07-18T13:27:29.060724Z",
     "iopub.status.busy": "2024-07-18T13:27:29.060241Z",
     "iopub.status.idle": "2024-07-18T13:27:29.071465Z",
     "shell.execute_reply": "2024-07-18T13:27:29.069941Z",
     "shell.execute_reply.started": "2024-07-18T13:27:29.060663Z"
    }
   },
   "outputs": [
    {
     "data": {
      "text/plain": [
       "array([[0, 0, 0, ..., 0, 0, 0],\n",
       "       [0, 0, 0, ..., 0, 0, 0],\n",
       "       [0, 0, 0, ..., 0, 0, 0],\n",
       "       ...,\n",
       "       [0, 0, 0, ..., 0, 0, 0],\n",
       "       [0, 0, 0, ..., 0, 0, 0],\n",
       "       [0, 0, 0, ..., 0, 0, 0]], dtype=int64)"
      ]
     },
     "execution_count": 25,
     "metadata": {},
     "output_type": "execute_result"
    }
   ],
   "source": [
    "count_vect_transform.toarray()"
   ]
  },
  {
   "cell_type": "code",
   "execution_count": 26,
   "metadata": {
    "execution": {
     "iopub.execute_input": "2024-07-18T13:27:29.073777Z",
     "iopub.status.busy": "2024-07-18T13:27:29.073247Z",
     "iopub.status.idle": "2024-07-18T13:27:29.091296Z",
     "shell.execute_reply": "2024-07-18T13:27:29.089561Z",
     "shell.execute_reply.started": "2024-07-18T13:27:29.073736Z"
    }
   },
   "outputs": [
    {
     "data": {
      "text/plain": [
       "array(['ability', 'able', 'abused', 'abusive', 'academic', 'academically',\n",
       "       'academics', 'accent', 'accept', 'access', 'accessing',\n",
       "       'accommodated', 'account', 'accredited', 'accurate', 'achieve',\n",
       "       'achieving', 'activities', 'additional', 'addressed', 'addressing',\n",
       "       'adjust', 'administrative', 'advances', 'advantage', 'advertised',\n",
       "       'advising', 'advisor', 'advisors', 'affairs', 'affecting',\n",
       "       'afford', 'affordable', 'aggressive', 'ago', 'aid', 'air',\n",
       "       'alarms', 'alcohol', 'anonymous', 'answer', 'anxiety', 'anxious',\n",
       "       'apartments', 'apparent', 'appearance', 'appetizing',\n",
       "       'application', 'appointment', 'appointments', 'appreciate',\n",
       "       'approachable', 'area', 'areas', 'art', 'ask', 'asked', 'asking',\n",
       "       'aspirations', 'assignment', 'assignments', 'assistants',\n",
       "       'athlete', 'athletes', 'athletic', 'attend', 'attending',\n",
       "       'attention', 'attire', 'audio', 'availability', 'available',\n",
       "       'balance', 'balanced', 'balancing', 'barely', 'barrier',\n",
       "       'bathrooms', 'beg', 'belongings', 'best', 'better', 'biased',\n",
       "       'bike', 'birth', 'bland', 'body', 'booked', 'books', 'bookstore',\n",
       "       'breakfast', 'broken', 'build', 'building', 'bullied',\n",
       "       'bureaucratic', 'bus', 'buses', 'buy', 'cafe', 'cafeteria',\n",
       "       'calculated', 'calendar', 'calories', 'campus', 'capable', 'cards',\n",
       "       'care', 'career', 'careers', 'cares', 'carry', 'catch', 'caused',\n",
       "       'causing', 'celiac', 'center', 'certain', 'certificate',\n",
       "       'certificates', 'challenge', 'challenging', 'change', 'charges',\n",
       "       'choose', 'chores', 'city', 'class', 'classes', 'classmate',\n",
       "       'classmates', 'classrooms', 'cleaned', 'clear', 'clearly',\n",
       "       'cliquey', 'closed', 'club', 'code', 'coffee', 'cold',\n",
       "       'collaboratively', 'college', 'comes', 'comfortable', 'comments',\n",
       "       'commitments', 'communicate', 'communicating', 'community',\n",
       "       'commute', 'compared', 'compete', 'complaints', 'complete',\n",
       "       'compliance', 'comply', 'computer', 'concerned', 'concerning',\n",
       "       'condition', 'conditioning', 'conduct', 'conflict', 'conflicts',\n",
       "       'confusing', 'confusion', 'consent', 'consistently', 'constantly',\n",
       "       'constructive', 'control', 'convenience', 'copies', 'cornered',\n",
       "       'cost', 'costs', 'counseling', 'course', 'courses', 'coursework',\n",
       "       'court', 'crashes', 'create', 'creating', 'credit', 'criticism',\n",
       "       'crowded', 'culture', 'current', 'dance', 'databases', 'date',\n",
       "       'day', 'deadlines', 'deal', 'dealing', 'decisions', 'degrading',\n",
       "       'degree', 'delays', 'demand', 'demanded', 'demands', 'demeaning',\n",
       "       'derogatory', 'despite', 'developed', 'developing', 'developments',\n",
       "       'differences', 'different', 'difficult', 'difficulties',\n",
       "       'difficulty', 'dining', 'directions', 'disability', 'disadvantage',\n",
       "       'disappointed', 'disappointing', 'discipline', 'discomfort',\n",
       "       'disconnected', 'disconnecting', 'discouraged', 'discriminatory',\n",
       "       'discussions', 'disease', 'dishonesty', 'disinterested',\n",
       "       'distress', 'disturb', 'diverse', 'diversity', 'document', 'dorm',\n",
       "       'dormitories', 'dormitory', 'dorms', 'downside', 'drink', 'drinks',\n",
       "       'drop', 'duress', 'early', 'eat', 'eating', 'edible', 'education',\n",
       "       'effectively', 'effectiveness', 'electives', 'electrical',\n",
       "       'eligibility', 'encourage', 'end', 'ends', 'energy', 'engage',\n",
       "       'engaged', 'engaging', 'ensure', 'entire', 'environment',\n",
       "       'equipment', 'errands', 'errors', 'especially', 'ethnicity',\n",
       "       'evening', 'event', 'events', 'exams', 'exclude', 'exclusive',\n",
       "       'expanding', 'expected', 'expensive', 'experience', 'explore',\n",
       "       'exploring', 'expressed', 'extended', 'extra', 'extracurricular',\n",
       "       'extremely', 'face', 'facilities', 'faculty', 'fair', 'fairly',\n",
       "       'fall', 'falling', 'false', 'favorites', 'feedback', 'feel',\n",
       "       'feeling', 'feels', 'fees', 'fellow', 'fi', 'field', 'fields',\n",
       "       'financial', 'finding', 'firsthand', 'fit', 'flavors',\n",
       "       'flexibility', 'flexible', 'focus', 'follow', 'followed',\n",
       "       'following', 'food', 'forced', 'forms', 'free', 'frequently',\n",
       "       'fresh', 'fridge', 'frustrated', 'frustrating', 'frustration',\n",
       "       'fulfill', 'fully', 'functionality', 'funding', 'future', 'gender',\n",
       "       'getting', 'giving', 'glitches', 'glitchy', 'gluten', 'goals',\n",
       "       'good', 'grab', 'grade', 'grades', 'grading', 'graduate', 'great',\n",
       "       'greater', 'group', 'groups', 'guidance', 'guide', 'gym', 'hall',\n",
       "       'halls', 'harassed', 'hard', 'harm', 'harrasment', 'health',\n",
       "       'healthy', 'heating', 'help', 'helpdesk', 'helpful', 'high',\n",
       "       'higher', 'hindering', 'hitting', 'holidays', 'honor', 'hostile',\n",
       "       'hours', 'housing', 'huge', 'humiliated', 'humiliating', 'hurry',\n",
       "       'hurt', 'id', 'impacting', 'important', 'impossible', 'improve',\n",
       "       'improved', 'improvement', 'improving', 'inadequate',\n",
       "       'inappropriate', 'inappropriately', 'incidents', 'included',\n",
       "       'inconsistent', 'inconvenient', 'increasing', 'individualized',\n",
       "       'ineffective', 'inequality', 'information', 'infrastructure',\n",
       "       'initiation', 'injured', 'injury', 'institution', 'instructions',\n",
       "       'insufficient', 'integrity', 'intentionally', 'interaction',\n",
       "       'interactions', 'interests', 'international', 'intimidated',\n",
       "       'intimidation', 'intolerance', 'invades', 'invest', 'involved',\n",
       "       'isolate', 'isolated', 'issue', 'issues', 'items', 'ix', 'jams',\n",
       "       'job', 'join', 'joke', 'jokes', 'journals', 'keeps', 'kept',\n",
       "       'kitchen', 'know', 'knowing', 'knowledge', 'lab', 'lack',\n",
       "       'lacking', 'lacks', 'landlord', 'language', 'late', 'lately',\n",
       "       'later', 'latest', 'laughed', 'laundry', 'leaks', 'learn',\n",
       "       'learning', 'lecture', 'lectures', 'left', 'lend', 'lesser',\n",
       "       'level', 'lewd', 'library', 'lies', 'like', 'limitations',\n",
       "       'limited', 'line', 'live', 'living', 'long', 'looks', 'lose',\n",
       "       'lot', 'loud', 'loudly', 'love', 'lower', 'lukewarm', 'machines',\n",
       "       'maintained', 'maintenance', 'major', 'make', 'makes', 'making',\n",
       "       'malicious', 'management', 'managing', 'manner', 'material',\n",
       "       'materials', 'meal', 'meals', 'measures', 'medical', 'meet',\n",
       "       'meeting', 'member', 'members', 'men', 'mental', 'menu',\n",
       "       'merchandise', 'messages', 'misbehaviour', 'miss', 'missing',\n",
       "       'mistakes', 'mocks', 'money', 'month', 'motivated', 'motivation',\n",
       "       'multiple', 'music', 'navigate', 'near', 'necessary', 'need',\n",
       "       'needed', 'needs', 'negatively', 'networking', 'new', 'newsletter',\n",
       "       'nice', 'night', 'nightmare', 'noisy', 'non', 'notes', 'number',\n",
       "       'obtaining', 'occupied', 'offensive', 'offer', 'offering',\n",
       "       'office', 'offices', 'older', 'ones', 'online', 'op', 'opaque',\n",
       "       'open', 'opportunities', 'options', 'order', 'orders',\n",
       "       'organization', 'organized', 'original', 'outdated', 'outlets',\n",
       "       'outrageous', 'outside', 'overall', 'overbooked', 'overcrowded',\n",
       "       'overlaps', 'overly', 'overpriced', 'overwhelming', 'pace',\n",
       "       'packed', 'paid', 'paper', 'papers', 'parking', 'participate',\n",
       "       'participating', 'particular', 'partner', 'party', 'passions',\n",
       "       'path', 'patrols', 'pay', 'paying', 'peak', 'peers', 'perform',\n",
       "       'performance', 'perishable', 'permission', 'permits', 'person',\n",
       "       'personal', 'personalized', 'persons', 'pest', 'physical',\n",
       "       'physically', 'physics', 'picking', 'place', 'plagiarism', 'plan',\n",
       "       'planning', 'plans', 'platform', 'playing', 'plays', 'plumbing',\n",
       "       'poor', 'poorly', 'popular', 'portions', 'potential', 'practice',\n",
       "       'preferential', 'prepare', 'prevent', 'preventing', 'prevents',\n",
       "       'price', 'prices', 'print', 'printer', 'printing', 'prioritizing',\n",
       "       'problem', 'process', 'processed', 'processes', 'professor',\n",
       "       'professors', 'program', 'programming', 'programs', 'project',\n",
       "       'projects', 'provide', 'public', 'publicly', 'published', 'pulled',\n",
       "       'pursue', 'pursuing', 'pushed', 'puts', 'quality', 'question',\n",
       "       'questions', 'quickly', 'quite', 'racist', 'racks', 'ragging',\n",
       "       'reach', 'reaching', 'readily', 'real', 'really', 'receive',\n",
       "       'received', 'receiving', 'recognition', 'recordings', 'recycling',\n",
       "       'red', 'refund', 'refused', 'refuses', 'refusing', 'regional',\n",
       "       'regularly', 'related', 'relationships', 'reliable', 'remarks',\n",
       "       'remote', 'rent', 'reputation', 'requests', 'require', 'required',\n",
       "       'requirements', 'research', 'resolving', 'resources', 'respect',\n",
       "       'respectfully', 'respond', 'response', 'responsibilities',\n",
       "       'restrictions', 'rigor', 'ritual', 'roommate', 'rooms', 'routes',\n",
       "       'rubric', 'ruin', 'rumors', 'run', 'scared', 'schedule',\n",
       "       'scheduling', 'school', 'schools', 'science', 'seat', 'seating',\n",
       "       'secrets', 'security', 'seek', 'selection', 'self', 'semester',\n",
       "       'sender', 'sends', 'senior', 'seniors', 'sense', 'sensitive',\n",
       "       'seriously', 'served', 'service', 'services', 'sessions',\n",
       "       'setting', 'sexist', 'sexually', 'share', 'shop', 'shot', 'shows',\n",
       "       'shuttle', 'sidewalks', 'signage', 'silly', 'simple', 'sing',\n",
       "       'singles', 'sit', 'skills', 'skit', 'slapped', 'slow', 'small',\n",
       "       'snack', 'snacks', 'social', 'software', 'sold', 'source', 'space',\n",
       "       'spaces', 'spend', 'spicy', 'spirit', 'sports', 'spot', 'spread',\n",
       "       'spreads', 'staff', 'stalks', 'stand', 'standard', 'start',\n",
       "       'started', 'status', 'stay', 'stop', 'store', 'streamline',\n",
       "       'streamlined', 'stress', 'stressed', 'strict', 'struggle',\n",
       "       'struggling', 'student', 'students', 'studies', 'studio', 'study',\n",
       "       'studying', 'subjective', 'submitted', 'succeed', 'success',\n",
       "       'suffered', 'sufficient', 'sugar', 'suggestive', 'summer',\n",
       "       'support', 'sure', 'switch', 'systemic', 'systems', 'takes',\n",
       "       'taking', 'talk', 'tape', 'tasks', 'tasty', 'teaching', 'team',\n",
       "       'teams', 'teases', 'technical', 'technology', 'tell', 'textbook',\n",
       "       'textbooks', 'thesis', 'things', 'thorough', 'thought',\n",
       "       'threatened', 'threatening', 'threatens', 'threats', 'time',\n",
       "       'timely', 'times', 'tired', 'title', 'took', 'tools', 'touched',\n",
       "       'touches', 'toxic', 'track', 'training', 'trains', 'transfer',\n",
       "       'transparency', 'transportation', 'treated', 'treatment',\n",
       "       'trouble', 'troubleshoot', 'trying', 'tuition', 'unappetizing',\n",
       "       'unclear', 'uncomfortable', 'undercooked', 'understaffed',\n",
       "       'understand', 'understanding', 'unfair', 'unhelpful', 'union',\n",
       "       'university', 'unnecessary', 'unreliable', 'unsafe', 'unsanitary',\n",
       "       'unwanted', 'use', 'vandalize', 'varies', 'variety', 'vegetarian',\n",
       "       'vending', 'verbally', 'violations', 'visible', 'visit', 'volume',\n",
       "       'wait', 'waiting', 'wall', 'want', 'wants', 'warning', 'washroom',\n",
       "       'waste', 'way', 'website', 'weekends', 'weeks', 'welcome',\n",
       "       'welcoming', 'wi', 'widely', 'wish', 'witnessed', 'women', 'work',\n",
       "       'workforce', 'working', 'workload', 'workshops', 'worried',\n",
       "       'worth', 'write', 'wrong', 'year', 'zone'], dtype=object)"
      ]
     },
     "execution_count": 26,
     "metadata": {},
     "output_type": "execute_result"
    }
   ],
   "source": [
    "count_vect.get_feature_names_out()"
   ]
  },
  {
   "cell_type": "code",
   "execution_count": 27,
   "metadata": {
    "execution": {
     "iopub.execute_input": "2024-07-18T13:27:29.093392Z",
     "iopub.status.busy": "2024-07-18T13:27:29.092987Z",
     "iopub.status.idle": "2024-07-18T13:27:29.102936Z",
     "shell.execute_reply": "2024-07-18T13:27:29.101656Z",
     "shell.execute_reply.started": "2024-07-18T13:27:29.093360Z"
    }
   },
   "outputs": [
    {
     "data": {
      "text/plain": [
       "890"
      ]
     },
     "execution_count": 27,
     "metadata": {},
     "output_type": "execute_result"
    }
   ],
   "source": [
    "len(count_vect.get_feature_names_out())"
   ]
  },
  {
   "cell_type": "code",
   "execution_count": 28,
   "metadata": {
    "execution": {
     "iopub.execute_input": "2024-07-18T13:27:29.105024Z",
     "iopub.status.busy": "2024-07-18T13:27:29.104595Z",
     "iopub.status.idle": "2024-07-18T13:27:29.133895Z",
     "shell.execute_reply": "2024-07-18T13:27:29.132335Z",
     "shell.execute_reply.started": "2024-07-18T13:27:29.104992Z"
    }
   },
   "outputs": [
    {
     "data": {
      "text/html": [
       "<div>\n",
       "<style scoped>\n",
       "    .dataframe tbody tr th:only-of-type {\n",
       "        vertical-align: middle;\n",
       "    }\n",
       "\n",
       "    .dataframe tbody tr th {\n",
       "        vertical-align: top;\n",
       "    }\n",
       "\n",
       "    .dataframe thead th {\n",
       "        text-align: right;\n",
       "    }\n",
       "</style>\n",
       "<table border=\"1\" class=\"dataframe\">\n",
       "  <thead>\n",
       "    <tr style=\"text-align: right;\">\n",
       "      <th></th>\n",
       "      <th>ability</th>\n",
       "      <th>able</th>\n",
       "      <th>abused</th>\n",
       "      <th>abusive</th>\n",
       "      <th>academic</th>\n",
       "      <th>academically</th>\n",
       "      <th>academics</th>\n",
       "      <th>accent</th>\n",
       "      <th>accept</th>\n",
       "      <th>access</th>\n",
       "      <th>...</th>\n",
       "      <th>workforce</th>\n",
       "      <th>working</th>\n",
       "      <th>workload</th>\n",
       "      <th>workshops</th>\n",
       "      <th>worried</th>\n",
       "      <th>worth</th>\n",
       "      <th>write</th>\n",
       "      <th>wrong</th>\n",
       "      <th>year</th>\n",
       "      <th>zone</th>\n",
       "    </tr>\n",
       "  </thead>\n",
       "  <tbody>\n",
       "    <tr>\n",
       "      <th>0</th>\n",
       "      <td>0</td>\n",
       "      <td>0</td>\n",
       "      <td>0</td>\n",
       "      <td>0</td>\n",
       "      <td>0</td>\n",
       "      <td>0</td>\n",
       "      <td>0</td>\n",
       "      <td>0</td>\n",
       "      <td>0</td>\n",
       "      <td>0</td>\n",
       "      <td>...</td>\n",
       "      <td>0</td>\n",
       "      <td>0</td>\n",
       "      <td>0</td>\n",
       "      <td>0</td>\n",
       "      <td>0</td>\n",
       "      <td>0</td>\n",
       "      <td>0</td>\n",
       "      <td>0</td>\n",
       "      <td>0</td>\n",
       "      <td>0</td>\n",
       "    </tr>\n",
       "    <tr>\n",
       "      <th>1</th>\n",
       "      <td>0</td>\n",
       "      <td>0</td>\n",
       "      <td>0</td>\n",
       "      <td>0</td>\n",
       "      <td>0</td>\n",
       "      <td>0</td>\n",
       "      <td>0</td>\n",
       "      <td>0</td>\n",
       "      <td>0</td>\n",
       "      <td>1</td>\n",
       "      <td>...</td>\n",
       "      <td>0</td>\n",
       "      <td>0</td>\n",
       "      <td>0</td>\n",
       "      <td>0</td>\n",
       "      <td>0</td>\n",
       "      <td>0</td>\n",
       "      <td>1</td>\n",
       "      <td>0</td>\n",
       "      <td>0</td>\n",
       "      <td>0</td>\n",
       "    </tr>\n",
       "    <tr>\n",
       "      <th>2</th>\n",
       "      <td>0</td>\n",
       "      <td>0</td>\n",
       "      <td>0</td>\n",
       "      <td>0</td>\n",
       "      <td>1</td>\n",
       "      <td>0</td>\n",
       "      <td>0</td>\n",
       "      <td>0</td>\n",
       "      <td>0</td>\n",
       "      <td>0</td>\n",
       "      <td>...</td>\n",
       "      <td>0</td>\n",
       "      <td>0</td>\n",
       "      <td>0</td>\n",
       "      <td>0</td>\n",
       "      <td>0</td>\n",
       "      <td>0</td>\n",
       "      <td>0</td>\n",
       "      <td>0</td>\n",
       "      <td>0</td>\n",
       "      <td>0</td>\n",
       "    </tr>\n",
       "    <tr>\n",
       "      <th>3</th>\n",
       "      <td>0</td>\n",
       "      <td>0</td>\n",
       "      <td>0</td>\n",
       "      <td>0</td>\n",
       "      <td>0</td>\n",
       "      <td>0</td>\n",
       "      <td>0</td>\n",
       "      <td>0</td>\n",
       "      <td>0</td>\n",
       "      <td>0</td>\n",
       "      <td>...</td>\n",
       "      <td>0</td>\n",
       "      <td>0</td>\n",
       "      <td>0</td>\n",
       "      <td>0</td>\n",
       "      <td>0</td>\n",
       "      <td>0</td>\n",
       "      <td>0</td>\n",
       "      <td>0</td>\n",
       "      <td>0</td>\n",
       "      <td>0</td>\n",
       "    </tr>\n",
       "    <tr>\n",
       "      <th>4</th>\n",
       "      <td>0</td>\n",
       "      <td>0</td>\n",
       "      <td>0</td>\n",
       "      <td>0</td>\n",
       "      <td>0</td>\n",
       "      <td>0</td>\n",
       "      <td>0</td>\n",
       "      <td>0</td>\n",
       "      <td>0</td>\n",
       "      <td>0</td>\n",
       "      <td>...</td>\n",
       "      <td>0</td>\n",
       "      <td>0</td>\n",
       "      <td>0</td>\n",
       "      <td>0</td>\n",
       "      <td>0</td>\n",
       "      <td>0</td>\n",
       "      <td>0</td>\n",
       "      <td>0</td>\n",
       "      <td>0</td>\n",
       "      <td>0</td>\n",
       "    </tr>\n",
       "  </tbody>\n",
       "</table>\n",
       "<p>5 rows × 890 columns</p>\n",
       "</div>"
      ],
      "text/plain": [
       "   ability  able  abused  abusive  academic  academically  academics  accent  \\\n",
       "0        0     0       0        0         0             0          0       0   \n",
       "1        0     0       0        0         0             0          0       0   \n",
       "2        0     0       0        0         1             0          0       0   \n",
       "3        0     0       0        0         0             0          0       0   \n",
       "4        0     0       0        0         0             0          0       0   \n",
       "\n",
       "   accept  access  ...  workforce  working  workload  workshops  worried  \\\n",
       "0       0       0  ...          0        0         0          0        0   \n",
       "1       0       1  ...          0        0         0          0        0   \n",
       "2       0       0  ...          0        0         0          0        0   \n",
       "3       0       0  ...          0        0         0          0        0   \n",
       "4       0       0  ...          0        0         0          0        0   \n",
       "\n",
       "   worth  write  wrong  year  zone  \n",
       "0      0      0      0     0     0  \n",
       "1      0      1      0     0     0  \n",
       "2      0      0      0     0     0  \n",
       "3      0      0      0     0     0  \n",
       "4      0      0      0     0     0  \n",
       "\n",
       "[5 rows x 890 columns]"
      ]
     },
     "execution_count": 28,
     "metadata": {},
     "output_type": "execute_result"
    }
   ],
   "source": [
    "pd.DataFrame(count_vect_transform.toarray(),columns=count_vect.get_feature_names_out()).head()"
   ]
  },
  {
   "cell_type": "code",
   "execution_count": 29,
   "metadata": {
    "execution": {
     "iopub.execute_input": "2024-07-18T13:27:29.135784Z",
     "iopub.status.busy": "2024-07-18T13:27:29.135354Z",
     "iopub.status.idle": "2024-07-18T13:27:29.146440Z",
     "shell.execute_reply": "2024-07-18T13:27:29.145079Z",
     "shell.execute_reply.started": "2024-07-18T13:27:29.135738Z"
    }
   },
   "outputs": [],
   "source": [
    "tfidf_vect=TfidfTransformer()\n",
    "x_train_tfidf=tfidf_vect.fit(count_vect_transform)\n",
    "x_train_tfidf_transform=x_train_tfidf.transform(count_vect_transform)"
   ]
  },
  {
   "cell_type": "code",
   "execution_count": 30,
   "metadata": {
    "execution": {
     "iopub.execute_input": "2024-07-18T13:27:29.148505Z",
     "iopub.status.busy": "2024-07-18T13:27:29.148023Z",
     "iopub.status.idle": "2024-07-18T13:27:29.189075Z",
     "shell.execute_reply": "2024-07-18T13:27:29.187914Z",
     "shell.execute_reply.started": "2024-07-18T13:27:29.148467Z"
    }
   },
   "outputs": [
    {
     "data": {
      "text/html": [
       "<div>\n",
       "<style scoped>\n",
       "    .dataframe tbody tr th:only-of-type {\n",
       "        vertical-align: middle;\n",
       "    }\n",
       "\n",
       "    .dataframe tbody tr th {\n",
       "        vertical-align: top;\n",
       "    }\n",
       "\n",
       "    .dataframe thead th {\n",
       "        text-align: right;\n",
       "    }\n",
       "</style>\n",
       "<table border=\"1\" class=\"dataframe\">\n",
       "  <thead>\n",
       "    <tr style=\"text-align: right;\">\n",
       "      <th></th>\n",
       "      <th>ability</th>\n",
       "      <th>able</th>\n",
       "      <th>abused</th>\n",
       "      <th>abusive</th>\n",
       "      <th>academic</th>\n",
       "      <th>academically</th>\n",
       "      <th>academics</th>\n",
       "      <th>accent</th>\n",
       "      <th>accept</th>\n",
       "      <th>access</th>\n",
       "      <th>...</th>\n",
       "      <th>workforce</th>\n",
       "      <th>working</th>\n",
       "      <th>workload</th>\n",
       "      <th>workshops</th>\n",
       "      <th>worried</th>\n",
       "      <th>worth</th>\n",
       "      <th>write</th>\n",
       "      <th>wrong</th>\n",
       "      <th>year</th>\n",
       "      <th>zone</th>\n",
       "    </tr>\n",
       "  </thead>\n",
       "  <tbody>\n",
       "    <tr>\n",
       "      <th>0</th>\n",
       "      <td>0.0</td>\n",
       "      <td>0.0</td>\n",
       "      <td>0.0</td>\n",
       "      <td>0.0</td>\n",
       "      <td>0.000000</td>\n",
       "      <td>0.0</td>\n",
       "      <td>0.0</td>\n",
       "      <td>0.0</td>\n",
       "      <td>0.0</td>\n",
       "      <td>0.000000</td>\n",
       "      <td>...</td>\n",
       "      <td>0.0</td>\n",
       "      <td>0.0</td>\n",
       "      <td>0.0</td>\n",
       "      <td>0.0</td>\n",
       "      <td>0.0</td>\n",
       "      <td>0.0</td>\n",
       "      <td>0.000000</td>\n",
       "      <td>0.0</td>\n",
       "      <td>0.0</td>\n",
       "      <td>0.0</td>\n",
       "    </tr>\n",
       "    <tr>\n",
       "      <th>1</th>\n",
       "      <td>0.0</td>\n",
       "      <td>0.0</td>\n",
       "      <td>0.0</td>\n",
       "      <td>0.0</td>\n",
       "      <td>0.000000</td>\n",
       "      <td>0.0</td>\n",
       "      <td>0.0</td>\n",
       "      <td>0.0</td>\n",
       "      <td>0.0</td>\n",
       "      <td>0.146618</td>\n",
       "      <td>...</td>\n",
       "      <td>0.0</td>\n",
       "      <td>0.0</td>\n",
       "      <td>0.0</td>\n",
       "      <td>0.0</td>\n",
       "      <td>0.0</td>\n",
       "      <td>0.0</td>\n",
       "      <td>0.287544</td>\n",
       "      <td>0.0</td>\n",
       "      <td>0.0</td>\n",
       "      <td>0.0</td>\n",
       "    </tr>\n",
       "    <tr>\n",
       "      <th>2</th>\n",
       "      <td>0.0</td>\n",
       "      <td>0.0</td>\n",
       "      <td>0.0</td>\n",
       "      <td>0.0</td>\n",
       "      <td>0.187057</td>\n",
       "      <td>0.0</td>\n",
       "      <td>0.0</td>\n",
       "      <td>0.0</td>\n",
       "      <td>0.0</td>\n",
       "      <td>0.000000</td>\n",
       "      <td>...</td>\n",
       "      <td>0.0</td>\n",
       "      <td>0.0</td>\n",
       "      <td>0.0</td>\n",
       "      <td>0.0</td>\n",
       "      <td>0.0</td>\n",
       "      <td>0.0</td>\n",
       "      <td>0.000000</td>\n",
       "      <td>0.0</td>\n",
       "      <td>0.0</td>\n",
       "      <td>0.0</td>\n",
       "    </tr>\n",
       "    <tr>\n",
       "      <th>3</th>\n",
       "      <td>0.0</td>\n",
       "      <td>0.0</td>\n",
       "      <td>0.0</td>\n",
       "      <td>0.0</td>\n",
       "      <td>0.000000</td>\n",
       "      <td>0.0</td>\n",
       "      <td>0.0</td>\n",
       "      <td>0.0</td>\n",
       "      <td>0.0</td>\n",
       "      <td>0.000000</td>\n",
       "      <td>...</td>\n",
       "      <td>0.0</td>\n",
       "      <td>0.0</td>\n",
       "      <td>0.0</td>\n",
       "      <td>0.0</td>\n",
       "      <td>0.0</td>\n",
       "      <td>0.0</td>\n",
       "      <td>0.000000</td>\n",
       "      <td>0.0</td>\n",
       "      <td>0.0</td>\n",
       "      <td>0.0</td>\n",
       "    </tr>\n",
       "    <tr>\n",
       "      <th>4</th>\n",
       "      <td>0.0</td>\n",
       "      <td>0.0</td>\n",
       "      <td>0.0</td>\n",
       "      <td>0.0</td>\n",
       "      <td>0.000000</td>\n",
       "      <td>0.0</td>\n",
       "      <td>0.0</td>\n",
       "      <td>0.0</td>\n",
       "      <td>0.0</td>\n",
       "      <td>0.000000</td>\n",
       "      <td>...</td>\n",
       "      <td>0.0</td>\n",
       "      <td>0.0</td>\n",
       "      <td>0.0</td>\n",
       "      <td>0.0</td>\n",
       "      <td>0.0</td>\n",
       "      <td>0.0</td>\n",
       "      <td>0.000000</td>\n",
       "      <td>0.0</td>\n",
       "      <td>0.0</td>\n",
       "      <td>0.0</td>\n",
       "    </tr>\n",
       "  </tbody>\n",
       "</table>\n",
       "<p>5 rows × 890 columns</p>\n",
       "</div>"
      ],
      "text/plain": [
       "   ability  able  abused  abusive  academic  academically  academics  accent  \\\n",
       "0      0.0   0.0     0.0      0.0  0.000000           0.0        0.0     0.0   \n",
       "1      0.0   0.0     0.0      0.0  0.000000           0.0        0.0     0.0   \n",
       "2      0.0   0.0     0.0      0.0  0.187057           0.0        0.0     0.0   \n",
       "3      0.0   0.0     0.0      0.0  0.000000           0.0        0.0     0.0   \n",
       "4      0.0   0.0     0.0      0.0  0.000000           0.0        0.0     0.0   \n",
       "\n",
       "   accept    access  ...  workforce  working  workload  workshops  worried  \\\n",
       "0     0.0  0.000000  ...        0.0      0.0       0.0        0.0      0.0   \n",
       "1     0.0  0.146618  ...        0.0      0.0       0.0        0.0      0.0   \n",
       "2     0.0  0.000000  ...        0.0      0.0       0.0        0.0      0.0   \n",
       "3     0.0  0.000000  ...        0.0      0.0       0.0        0.0      0.0   \n",
       "4     0.0  0.000000  ...        0.0      0.0       0.0        0.0      0.0   \n",
       "\n",
       "   worth     write  wrong  year  zone  \n",
       "0    0.0  0.000000    0.0   0.0   0.0  \n",
       "1    0.0  0.287544    0.0   0.0   0.0  \n",
       "2    0.0  0.000000    0.0   0.0   0.0  \n",
       "3    0.0  0.000000    0.0   0.0   0.0  \n",
       "4    0.0  0.000000    0.0   0.0   0.0  \n",
       "\n",
       "[5 rows x 890 columns]"
      ]
     },
     "execution_count": 30,
     "metadata": {},
     "output_type": "execute_result"
    }
   ],
   "source": [
    "pd.DataFrame(x_train_tfidf_transform.toarray(),columns=count_vect.get_feature_names_out()).head()"
   ]
  },
  {
   "cell_type": "code",
   "execution_count": 31,
   "metadata": {
    "execution": {
     "iopub.execute_input": "2024-07-18T13:27:29.190773Z",
     "iopub.status.busy": "2024-07-18T13:27:29.190417Z",
     "iopub.status.idle": "2024-07-18T13:27:29.200501Z",
     "shell.execute_reply": "2024-07-18T13:27:29.199205Z",
     "shell.execute_reply.started": "2024-07-18T13:27:29.190745Z"
    }
   },
   "outputs": [
    {
     "data": {
      "text/plain": [
       "0      High\n",
       "1      High\n",
       "2      High\n",
       "3      High\n",
       "4      High\n",
       "       ... \n",
       "397     Low\n",
       "398     Low\n",
       "399     Low\n",
       "400     Low\n",
       "401     Low\n",
       "Name: priority, Length: 402, dtype: object"
      ]
     },
     "execution_count": 31,
     "metadata": {},
     "output_type": "execute_result"
    }
   ],
   "source": [
    "df['priority']"
   ]
  },
  {
   "cell_type": "code",
   "execution_count": 32,
   "metadata": {
    "execution": {
     "iopub.execute_input": "2024-07-18T13:27:29.202551Z",
     "iopub.status.busy": "2024-07-18T13:27:29.202138Z",
     "iopub.status.idle": "2024-07-18T13:27:29.213198Z",
     "shell.execute_reply": "2024-07-18T13:27:29.211589Z",
     "shell.execute_reply.started": "2024-07-18T13:27:29.202519Z"
    }
   },
   "outputs": [
    {
     "data": {
      "text/plain": [
       "(402,)"
      ]
     },
     "execution_count": 32,
     "metadata": {},
     "output_type": "execute_result"
    }
   ],
   "source": [
    "y=df['priority']\n",
    "y.shape"
   ]
  },
  {
   "cell_type": "code",
   "execution_count": 33,
   "metadata": {
    "execution": {
     "iopub.execute_input": "2024-07-18T13:27:29.215273Z",
     "iopub.status.busy": "2024-07-18T13:27:29.214798Z",
     "iopub.status.idle": "2024-07-18T13:27:29.228968Z",
     "shell.execute_reply": "2024-07-18T13:27:29.227421Z",
     "shell.execute_reply.started": "2024-07-18T13:27:29.215232Z"
    }
   },
   "outputs": [
    {
     "data": {
      "text/plain": [
       "(402, 890)"
      ]
     },
     "execution_count": 33,
     "metadata": {},
     "output_type": "execute_result"
    }
   ],
   "source": [
    "x_train_tfidf_transform.shape"
   ]
  },
  {
   "cell_type": "markdown",
   "metadata": {},
   "source": [
    "# Spliting the data set into train and test "
   ]
  },
  {
   "cell_type": "code",
   "execution_count": 34,
   "metadata": {
    "execution": {
     "iopub.execute_input": "2024-07-18T13:27:29.230962Z",
     "iopub.status.busy": "2024-07-18T13:27:29.230509Z",
     "iopub.status.idle": "2024-07-18T13:27:29.241896Z",
     "shell.execute_reply": "2024-07-18T13:27:29.240544Z",
     "shell.execute_reply.started": "2024-07-18T13:27:29.230915Z"
    }
   },
   "outputs": [],
   "source": [
    "from sklearn.model_selection import train_test_split\n",
    "x_train,x_test,y_train,y_test=train_test_split(x_train_tfidf_transform,y,train_size=0.75,random_state=42)"
   ]
  },
  {
   "cell_type": "code",
   "execution_count": 35,
   "metadata": {
    "execution": {
     "iopub.execute_input": "2024-07-18T13:27:29.244430Z",
     "iopub.status.busy": "2024-07-18T13:27:29.244024Z",
     "iopub.status.idle": "2024-07-18T13:27:29.250994Z",
     "shell.execute_reply": "2024-07-18T13:27:29.249851Z",
     "shell.execute_reply.started": "2024-07-18T13:27:29.244398Z"
    }
   },
   "outputs": [],
   "source": [
    "from sklearn.metrics import classification_report,confusion_matrix,accuracy_score"
   ]
  },
  {
   "cell_type": "markdown",
   "metadata": {
    "execution": {
     "iopub.execute_input": "2024-07-18T13:03:36.043709Z",
     "iopub.status.busy": "2024-07-18T13:03:36.043231Z",
     "iopub.status.idle": "2024-07-18T13:03:36.624446Z",
     "shell.execute_reply": "2024-07-18T13:03:36.622784Z",
     "shell.execute_reply.started": "2024-07-18T13:03:36.043664Z"
    }
   },
   "source": [
    "# Naive_bayes"
   ]
  },
  {
   "cell_type": "code",
   "execution_count": 36,
   "metadata": {
    "execution": {
     "iopub.execute_input": "2024-07-18T13:27:29.253151Z",
     "iopub.status.busy": "2024-07-18T13:27:29.252538Z",
     "iopub.status.idle": "2024-07-18T13:27:29.285710Z",
     "shell.execute_reply": "2024-07-18T13:27:29.284531Z",
     "shell.execute_reply.started": "2024-07-18T13:27:29.253106Z"
    }
   },
   "outputs": [
    {
     "name": "stdout",
     "output_type": "stream",
     "text": [
      " confusion matrix \n",
      "-----------------------------------------------------------------------------------------------------------------\n",
      "[[54  7]\n",
      " [14 26]]\n",
      "-----------------------------------------------------------------------------------------------------------------\n",
      "accuracy score\n",
      "-----------------------------------------------------------------------------------------------------------------\n",
      "0.7920792079207921\n",
      "-----------------------------------------------------------------------------------------------------------------\n",
      "Classification Report\n",
      "-----------------------------------------------------------------------------------------------------------------\n",
      "              precision    recall  f1-score   support\n",
      "\n",
      "        High       0.79      0.89      0.84        61\n",
      "         Low       0.79      0.65      0.71        40\n",
      "\n",
      "    accuracy                           0.79       101\n",
      "   macro avg       0.79      0.77      0.77       101\n",
      "weighted avg       0.79      0.79      0.79       101\n",
      "\n"
     ]
    }
   ],
   "source": [
    "mnb=MultinomialNB()\n",
    "mnb.fit(x_train,y_train)\n",
    "mnb_predict=mnb.predict(x_test)\n",
    "print(\" confusion matrix \")\n",
    "print(\"-----------------------------------------------------------------------------------------------------------------\")\n",
    "print(confusion_matrix(y_test,mnb_predict))\n",
    "print(\"-----------------------------------------------------------------------------------------------------------------\")\n",
    "print(\"accuracy score\")\n",
    "print(\"-----------------------------------------------------------------------------------------------------------------\")\n",
    "print(accuracy_score(y_test,mnb_predict))\n",
    "print(\"-----------------------------------------------------------------------------------------------------------------\")\n",
    "print(\"Classification Report\")\n",
    "print(\"-----------------------------------------------------------------------------------------------------------------\")\n",
    "print(classification_report(y_test,mnb_predict))"
   ]
  },
  {
   "cell_type": "markdown",
   "metadata": {
    "execution": {
     "iopub.execute_input": "2024-07-18T13:01:16.062833Z",
     "iopub.status.busy": "2024-07-18T13:01:16.062123Z",
     "iopub.status.idle": "2024-07-18T13:01:16.283103Z",
     "shell.execute_reply": "2024-07-18T13:01:16.281691Z",
     "shell.execute_reply.started": "2024-07-18T13:01:16.062783Z"
    }
   },
   "source": [
    "# DecisionTreeClassifier"
   ]
  },
  {
   "cell_type": "code",
   "execution_count": 37,
   "metadata": {
    "execution": {
     "iopub.execute_input": "2024-07-18T13:27:29.287398Z",
     "iopub.status.busy": "2024-07-18T13:27:29.287050Z",
     "iopub.status.idle": "2024-07-18T13:27:29.324570Z",
     "shell.execute_reply": "2024-07-18T13:27:29.323336Z",
     "shell.execute_reply.started": "2024-07-18T13:27:29.287369Z"
    }
   },
   "outputs": [
    {
     "name": "stdout",
     "output_type": "stream",
     "text": [
      " confusion matrix \n",
      "-----------------------------------------------------------------------------------------------------------------\n",
      "[[53  8]\n",
      " [21 19]]\n",
      "-----------------------------------------------------------------------------------------------------------------\n",
      "accuracy score\n",
      "-----------------------------------------------------------------------------------------------------------------\n",
      "0.7128712871287128\n",
      "-----------------------------------------------------------------------------------------------------------------\n",
      "Classification Report\n",
      "-----------------------------------------------------------------------------------------------------------------\n",
      "              precision    recall  f1-score   support\n",
      "\n",
      "        High       0.72      0.87      0.79        61\n",
      "         Low       0.70      0.47      0.57        40\n",
      "\n",
      "    accuracy                           0.71       101\n",
      "   macro avg       0.71      0.67      0.68       101\n",
      "weighted avg       0.71      0.71      0.70       101\n",
      "\n"
     ]
    }
   ],
   "source": [
    "from sklearn.tree import DecisionTreeClassifier\n",
    "dt=DecisionTreeClassifier()\n",
    "dt.fit(x_train,y_train)\n",
    "dt_pred=dt.predict(x_test)\n",
    "print(\" confusion matrix \")\n",
    "print(\"-----------------------------------------------------------------------------------------------------------------\")\n",
    "print(confusion_matrix(y_test,dt_pred))\n",
    "print(\"-----------------------------------------------------------------------------------------------------------------\")\n",
    "print(\"accuracy score\")\n",
    "print(\"-----------------------------------------------------------------------------------------------------------------\")\n",
    "print(accuracy_score(y_test,dt_pred))\n",
    "print(\"-----------------------------------------------------------------------------------------------------------------\")\n",
    "print(\"Classification Report\")\n",
    "print(\"-----------------------------------------------------------------------------------------------------------------\")\n",
    "print(classification_report(y_test,dt_pred))"
   ]
  },
  {
   "cell_type": "markdown",
   "metadata": {},
   "source": [
    "# RandomForestClassifier"
   ]
  },
  {
   "cell_type": "code",
   "execution_count": 38,
   "metadata": {
    "execution": {
     "iopub.execute_input": "2024-07-18T13:27:29.326578Z",
     "iopub.status.busy": "2024-07-18T13:27:29.326135Z",
     "iopub.status.idle": "2024-07-18T13:27:30.204122Z",
     "shell.execute_reply": "2024-07-18T13:27:30.202796Z",
     "shell.execute_reply.started": "2024-07-18T13:27:29.326547Z"
    }
   },
   "outputs": [
    {
     "name": "stdout",
     "output_type": "stream",
     "text": [
      " confusion matrix \n",
      "-----------------------------------------------------------------------------------------------------------------\n",
      "[[54  7]\n",
      " [14 26]]\n",
      "-----------------------------------------------------------------------------------------------------------------\n",
      "accuracy score\n",
      "-----------------------------------------------------------------------------------------------------------------\n",
      "0.7920792079207921\n",
      "-----------------------------------------------------------------------------------------------------------------\n",
      "Classification Report\n",
      "-----------------------------------------------------------------------------------------------------------------\n",
      "              precision    recall  f1-score   support\n",
      "\n",
      "        High       0.79      0.89      0.84        61\n",
      "         Low       0.79      0.65      0.71        40\n",
      "\n",
      "    accuracy                           0.79       101\n",
      "   macro avg       0.79      0.77      0.77       101\n",
      "weighted avg       0.79      0.79      0.79       101\n",
      "\n"
     ]
    }
   ],
   "source": [
    "from sklearn.ensemble import RandomForestClassifier\n",
    "rf=RandomForestClassifier(n_estimators=200)\n",
    "rf.fit(x_train,y_train)\n",
    "rf_pred=rf.predict(x_test)\n",
    "print(\" confusion matrix \")\n",
    "print(\"-----------------------------------------------------------------------------------------------------------------\")\n",
    "print(confusion_matrix(y_test,rf_pred))\n",
    "print(\"-----------------------------------------------------------------------------------------------------------------\")\n",
    "print(\"accuracy score\")\n",
    "print(\"-----------------------------------------------------------------------------------------------------------------\")\n",
    "print(accuracy_score(y_test,rf_pred))\n",
    "print(\"-----------------------------------------------------------------------------------------------------------------\")\n",
    "print(\"Classification Report\")\n",
    "print(\"-----------------------------------------------------------------------------------------------------------------\")\n",
    "print(classification_report(y_test,rf_pred))"
   ]
  },
  {
   "cell_type": "code",
   "execution_count": 39,
   "metadata": {
    "execution": {
     "iopub.execute_input": "2024-07-18T13:27:30.206031Z",
     "iopub.status.busy": "2024-07-18T13:27:30.205629Z",
     "iopub.status.idle": "2024-07-18T13:27:30.238160Z",
     "shell.execute_reply": "2024-07-18T13:27:30.236868Z",
     "shell.execute_reply.started": "2024-07-18T13:27:30.205999Z"
    }
   },
   "outputs": [
    {
     "name": "stdout",
     "output_type": "stream",
     "text": [
      "['High']\n"
     ]
    }
   ],
   "source": [
    "print(rf.predict(count_vect.transform(['trouble finding course materials need classes library bookstore always sold'])))"
   ]
  },
  {
   "cell_type": "markdown",
   "metadata": {},
   "source": [
    "# Model Export Deployment"
   ]
  },
  {
   "cell_type": "code",
   "execution_count": 40,
   "metadata": {},
   "outputs": [],
   "source": [
    "import pickle"
   ]
  },
  {
   "cell_type": "code",
   "execution_count": 41,
   "metadata": {},
   "outputs": [],
   "source": [
    "with open('model.pkl', 'wb') as f:\n",
    "    pickle.dump(rf, f)"
   ]
  },
  {
   "cell_type": "markdown",
   "metadata": {},
   "source": [
    "# Model Test"
   ]
  },
  {
   "cell_type": "code",
   "execution_count": 42,
   "metadata": {},
   "outputs": [],
   "source": [
    "with open('model.pkl', 'rb') as f:\n",
    "    model = pickle.load(f)"
   ]
  },
  {
   "cell_type": "code",
   "execution_count": 43,
   "metadata": {},
   "outputs": [
    {
     "name": "stdout",
     "output_type": "stream",
     "text": [
      "['High']\n"
     ]
    }
   ],
   "source": [
    "print(model.predict(count_vect.transform(['trouble finding course materials need classes library bookstore always sold'])))"
   ]
  },
  {
   "cell_type": "code",
   "execution_count": 44,
   "metadata": {},
   "outputs": [],
   "source": [
    "arr=np.array(['trouble finding course materials need classes library bookstore always sold'])"
   ]
  },
  {
   "cell_type": "code",
   "execution_count": 45,
   "metadata": {},
   "outputs": [
    {
     "data": {
      "text/plain": [
       "array(['trouble finding course materials need classes library bookstore always sold'],\n",
       "      dtype='<U75')"
      ]
     },
     "execution_count": 45,
     "metadata": {},
     "output_type": "execute_result"
    }
   ],
   "source": [
    "arr"
   ]
  },
  {
   "cell_type": "code",
   "execution_count": 46,
   "metadata": {},
   "outputs": [
    {
     "name": "stdout",
     "output_type": "stream",
     "text": [
      "['High']\n"
     ]
    }
   ],
   "source": [
    "print(model.predict(count_vect.transform(arr)))"
   ]
  },
  {
   "cell_type": "code",
   "execution_count": null,
   "metadata": {},
   "outputs": [],
   "source": [
    "import os\n",
    "import pickle\n",
    "import numpy as np\n",
    "from flask import Flask, render_template, request, jsonify\n",
    "app = Flask(__name__)\n",
    "@app.route('/result', methods=['POST'])\n",
    "def result():\n",
    "    try:\n",
    "        json_data = request.get_json()\n",
    "        c=json_data['complaint']\n",
    "        result=model.predict(count_vect.transform([c]))\n",
    "        return jsonify(result=str(result[0]))\n",
    "    except Exception as e:\n",
    "        return jsonify(error=str(e)), 400\n",
    "\n",
    "if __name__ == '__main__':\n",
    "    app.run(debug=False, port=5024)\n"
   ]
  },
  {
   "cell_type": "code",
   "execution_count": null,
   "metadata": {},
   "outputs": [],
   "source": []
  }
 ],
 "metadata": {
  "kaggle": {
   "accelerator": "none",
   "dataSources": [
    {
     "datasetId": 5399454,
     "sourceId": 8969124,
     "sourceType": "datasetVersion"
    },
    {
     "datasetId": 5410413,
     "sourceId": 8984069,
     "sourceType": "datasetVersion"
    }
   ],
   "dockerImageVersionId": 30746,
   "isGpuEnabled": false,
   "isInternetEnabled": true,
   "language": "python",
   "sourceType": "notebook"
  },
  "kernelspec": {
   "display_name": "Python 3 (ipykernel)",
   "language": "python",
   "name": "python3"
  },
  "language_info": {
   "codemirror_mode": {
    "name": "ipython",
    "version": 3
   },
   "file_extension": ".py",
   "mimetype": "text/x-python",
   "name": "python",
   "nbconvert_exporter": "python",
   "pygments_lexer": "ipython3",
   "version": "3.10.2"
  }
 },
 "nbformat": 4,
 "nbformat_minor": 4
}
